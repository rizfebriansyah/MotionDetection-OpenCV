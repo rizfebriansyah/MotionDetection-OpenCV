{
 "cells": [
  {
   "cell_type": "code",
   "execution_count": null,
   "metadata": {},
   "outputs": [],
   "source": [
    "import cv2\n",
    "\n",
    "#first video - Traffic_Laramie_1.mp4\n",
    "\n",
    "#reads the input video\n",
    "videoCap = cv2.VideoCapture('Traffic_Laramie_1.mp4')\n",
    "\n",
    "#this is to initialise OpenCV - Background Subtractor for MOG2 and KNN\n",
    "BS_MOG2 = cv2.createBackgroundSubtractorMOG2()\n",
    "BS_KNN = cv2.createBackgroundSubtractorKNN()\n",
    "\n",
    "while videoCap.isOpened():\n",
    "    ret, frame = videoCap.read() #this will read the next frame\n",
    "\n",
    "    #this is to extract the foreground mask\n",
    "    forgMask = BS_MOG2.apply(frame)\n",
    " \n",
    "    #this is to draw and display the reference blue line\n",
    "    cv2.line(frame,(0,300), (1500,300), (225,105,65), 2) #ROYALBLUE LINE indicating the main street\n",
    "    \n",
    "    #this is to extract the contours\n",
    "    conts, _ = cv2.findContours(forgMask, cv2.RETR_LIST, cv2.CHAIN_APPROX_SIMPLE)\n",
    "    \n",
    "    for c in conts:\n",
    "        \n",
    "        #ignore the small-sized contours (this will not create a bounding rectangle if countour area is less than 3500) \n",
    "        if cv2.contourArea(c) < 3500:\n",
    "            continue\n",
    "        #however, if contour area is more than 3500, bounding rectangle will be drawn    \n",
    "        x, y, w, h = cv2.boundingRect(c)\n",
    "        if y > 305 and x > 0 and x < 2000:\n",
    "        \n",
    "            #draw the bounding rectangle for all contours\n",
    "            cv2.rectangle(frame,(x,y), (x+w, y+h), (0,255,0), 2)\n",
    "            #this is to find the centre coordinate of the bounding rectangle, displaying the circle\n",
    "            xMid = int((x + (x+w)) / 2) \n",
    "            yMid = int((y + (y+h)) / 2)\n",
    "            cv2.circle(frame, (xMid, yMid), 2, (35,97,235), 5)\n",
    "    \n",
    "    #show and display the foreground mask and original video\n",
    "    cv2.imshow('Foreground Mask', forgMask)\n",
    "    cv2.putText(frame, 'MAIN STREET', (600, 290), cv2.FONT_HERSHEY_DUPLEX, 1.5, (0,0,255), 3)\n",
    "    cv2.imshow('Original Video', frame)\n",
    "    \n",
    "    #wait for any key to be pressed\n",
    "    if cv2.waitKey(1) & 0xFF == ord('q'):\n",
    "        break\n",
    "\n",
    "#this is to release video capture\n",
    "cv2.destroyAllWindows()\n",
    "videoCap.release()"
   ]
  }
 ],
 "metadata": {
  "kernelspec": {
   "display_name": "Python 3",
   "language": "python",
   "name": "python3"
  },
  "language_info": {
   "codemirror_mode": {
    "name": "ipython",
    "version": 3
   },
   "file_extension": ".py",
   "mimetype": "text/x-python",
   "name": "python",
   "nbconvert_exporter": "python",
   "pygments_lexer": "ipython3",
   "version": "3.8.5"
  }
 },
 "nbformat": 4,
 "nbformat_minor": 4
}
